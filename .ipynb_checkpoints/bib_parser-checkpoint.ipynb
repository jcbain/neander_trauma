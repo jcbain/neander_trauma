{
 "cells": [
  {
   "cell_type": "code",
   "execution_count": 4,
   "metadata": {
    "collapsed": false
   },
   "outputs": [
    {
     "name": "stdout",
     "output_type": "stream",
     "text": [
      "   %comment %email ENTRYTYPE                       ID  \\\n",
      "0      Blah  Blah2   article               berger1995   \n",
      "1       NaN    NaN   article              shirani2010   \n",
      "2       NaN    NaN   article       gartlandinjury2001   \n",
      "3       NaN    NaN   article             hayesthe2008   \n",
      "4       NaN    NaN   article       ballequestrian2007   \n",
      "5       NaN    NaN   article    powellsex-related2000   \n",
      "6       NaN    NaN   article       murtaughinjury2001   \n",
      "7       NaN    NaN   article         powellinjury1999   \n",
      "8       NaN    NaN   article  solagberumotorcycle2006   \n",
      "9       NaN    NaN   article             korkiaan1994   \n",
      "10      NaN    NaN   article         chardracquet1987   \n",
      "11      NaN    NaN   article  hootmanepidemiology2007   \n",
      "12      NaN    NaN   article  marshalldescriptive2007   \n",
      "13      NaN    NaN   article         mcbethalpine2009   \n",
      "\n",
      "                                               author  \\\n",
      "0                  Thomas D. Berger and Erik Trinkaus   \n",
      "1   Gholamreza Shirani and Mohammad Hosein Kalanta...   \n",
      "2       Gartland, S and Malik, {MHA} and Lovell, {ME}   \n",
      "3                        Hayes, {JR} and Groner, {JI}   \n",
      "4   Ball, {CG} and Ball, {JE} and Kirkpatrick, {AW...   \n",
      "5                Powell, {JW} and {Barber-Foss,} {KD}   \n",
      "6                                         Murtaugh, K   \n",
      "7                Powell, {JW} and {Barber-Foss,} {KD}   \n",
      "8   Solagberu, {BA} and Ofoegbu, {CKP} and Nasir, ...   \n",
      "9             Korkia, {PK} and {Tunstall-Pedoe,} {DS}   \n",
      "10                     Chard, {MD} and Lachmann, {SM}   \n",
      "11              Hootman, {JM} and Dick, R and Agel, J   \n",
      "12         Marshall, {SW} and Covassin, T and Dick, R   \n",
      "13     {McBeth,} {PB} and Ball, {CG} and Mulloy, {RH}   \n",
      "\n",
      "                                              journal number     pages  \\\n",
      "0                   Journal of Archaeological Science    NaN  841--852   \n",
      "1           Journal of Emergencies, Trauma, and Shock      4  314--317   \n",
      "2                  British Journal of Sports Medicine    NaN  308--313   \n",
      "3                        Journal of Pediatric Surgery    NaN  928--930   \n",
      "4                     The American Journal of Surgery    NaN  636--640   \n",
      "5             The American Journal of Sports Medicine      3  385--391   \n",
      "6   Official Journal of the American College of Sp...    NaN  201--207   \n",
      "7                        Journal of Athletic Training      3  277--284   \n",
      "8                                   Injury Prevention    NaN  266--268   \n",
      "9                  British Journal of Sports Medicine      3  191--196   \n",
      "10                 British Journal of Sports Medicine      4  150--153   \n",
      "11                       Journal of Athletic Training      2  311--319   \n",
      "12                       Journal of Athletic Training      2  234--240   \n",
      "13                    The American Journal of Surgery      5  560--564   \n",
      "\n",
      "                                                title volume  year  \n",
      "0            Patterns of Trauma among the Neandertals     22  1995  \n",
      "1   Prevalence and patters of combat sport related...      3  2010  \n",
      "2    Injury and injury rates in Muay Thai kick boxing     35  2001  \n",
      "3   The increasing incidence of snowboard-related ...     43  2008  \n",
      "4   Equestrian injuries: incidence, injury pattern...    193  2007  \n",
      "5   Sex-related injury patterns among selected hig...     28  2000  \n",
      "6   Injury patterns among female field hockey players    NaN  2001  \n",
      "7   Injury patterns in selected high school sports...     34  1999  \n",
      "8   Motorcycle injuries in a developing country an...     12  2006  \n",
      "9   An epidemiological investigation of training a...     28  1994  \n",
      "10  Racquet sports--patterns of injury presenting ...     21  1987  \n",
      "11  Epidemiology of collegiate injuries for 15 spo...     42  2007  \n",
      "12  Descriptive epidemiology of collegiate women's...     42  2007  \n",
      "13  Alpine ski and snowboarding traumatic injuries...    197  2009  \n"
     ]
    }
   ],
   "source": [
    "import bibtexparser\n",
    "import pandas as pd\n",
    "\n",
    "# open the bib file and store it in a object called bib_database \n",
    "with open('bib.bib') as bibtex_file:\n",
    "    bib_database = bibtexparser.load(bibtex_file)\n",
    "\n",
    "# create a dataframe out of the bib_database\n",
    "df = pd.DataFrame(bib_database.entries)\n",
    "df.pop('annotate') # get rid of the annotate column\n",
    "\n",
    "print(df)\n",
    "\n",
    "# write to csv file\n",
    "df.to_csv(open('Data/trauma_articles.csv','w'))\n"
   ]
  },
  {
   "cell_type": "code",
   "execution_count": null,
   "metadata": {
    "collapsed": true
   },
   "outputs": [],
   "source": []
  },
  {
   "cell_type": "code",
   "execution_count": null,
   "metadata": {
    "collapsed": true
   },
   "outputs": [],
   "source": []
  }
 ],
 "metadata": {
  "kernelspec": {
   "display_name": "Python 3",
   "language": "python",
   "name": "python3"
  },
  "language_info": {
   "codemirror_mode": {
    "name": "ipython",
    "version": 3
   },
   "file_extension": ".py",
   "mimetype": "text/x-python",
   "name": "python",
   "nbconvert_exporter": "python",
   "pygments_lexer": "ipython3",
   "version": "3.5.1"
  }
 },
 "nbformat": 4,
 "nbformat_minor": 0
}

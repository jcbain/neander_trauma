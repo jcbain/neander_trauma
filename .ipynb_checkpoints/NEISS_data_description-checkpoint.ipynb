{
 "cells": [
  {
   "cell_type": "code",
   "execution_count": 1,
   "metadata": {
    "collapsed": true
   },
   "outputs": [],
   "source": [
    "import pandas as pd\n",
    "import numpy as np"
   ]
  },
  {
   "cell_type": "code",
   "execution_count": 2,
   "metadata": {
    "collapsed": true
   },
   "outputs": [],
   "source": [
    "data = pd.read_csv('Data/NEISS/all_fracture.csv')"
   ]
  },
  {
   "cell_type": "markdown",
   "metadata": {},
   "source": [
    "The first thing that needs to happen here is to find all the sports related fractures from the entire dataset just like I did back in the `clean_up` notebook. Remember, code 9 for location will extract all of the injuries that happen on sports fields and such. "
   ]
  },
  {
   "cell_type": "code",
   "execution_count": 3,
   "metadata": {
    "collapsed": true
   },
   "outputs": [],
   "source": [
    "sports= data.loc[data['location']==9]"
   ]
  },
  {
   "cell_type": "markdown",
   "metadata": {},
   "source": [
    "Easy enough! Moving forward, it looks like python is reading the `prod2` feature as a float. This complicates things when trying to join it with the `prod1` feature. Those damn `NaN`s messing up the default datatype! I have to find a way around that so that I can read in the old dictionary and find all values not currently in it from the entire dataset. "
   ]
  },
  {
   "cell_type": "code",
   "execution_count": 4,
   "metadata": {
    "collapsed": false,
    "scrolled": true
   },
   "outputs": [
    {
     "name": "stderr",
     "output_type": "stream",
     "text": [
      "/Users/jamesbain/anaconda/lib/python3.5/site-packages/ipykernel/__main__.py:1: SettingWithCopyWarning: \n",
      "A value is trying to be set on a copy of a slice from a DataFrame.\n",
      "Try using .loc[row_indexer,col_indexer] = value instead\n",
      "\n",
      "See the caveats in the documentation: http://pandas.pydata.org/pandas-docs/stable/indexing.html#indexing-view-versus-copy\n",
      "  if __name__ == '__main__':\n"
     ]
    }
   ],
   "source": [
    "sports['prod2'] = sports['prod2'].fillna(0.0).astype(int) # I may need to change this. An error is being thrown\n",
    "\n",
    "# find all of the unique codes when prod1 and prod2 joined\n",
    "uniq_prods = np.unique(sports[['prod1','prod2']]) "
   ]
  },
  {
   "cell_type": "markdown",
   "metadata": {},
   "source": [
    "Here is the old dictionary from just the subset of data from 2014 only!"
   ]
  },
  {
   "cell_type": "code",
   "execution_count": 5,
   "metadata": {
    "collapsed": false
   },
   "outputs": [],
   "source": [
    "sport_dict = {\n",
    "    5041: \"Baseball\",\n",
    "    3251: \"Built-in swimming pools\",\n",
    "    1272: \"Acrobatics/Gymnastics\",\n",
    "    3273: \"play sand (for sandboxes)\",\n",
    "    3283: \"snow skiing\",\n",
    "    5034: \"Softball\",\n",
    "    3283: \"Snow skiiing\",\n",
    "    5040: \"Bicycle pumps\",\n",
    "    5033: \"Mountain/All-terrain Biking\",\n",
    "    3255: \"Ice Skating\",\n",
    "    5016: \"Bouncy Balls\",\n",
    "    1205: \"Basketball\",\n",
    "    1293: \"Bounce house\",\n",
    "    1211: \"Football\",\n",
    "    5031: \"Snowboarding\",\n",
    "    1258: \"Mountain Climbing\",\n",
    "    1279: \"Ice Hockey\",\n",
    "    1807: \"Patios/Flooring\",\n",
    "    3299: \"Stretching Exercise\",\n",
    "    1333: \"Skateboarding\",\n",
    "    3216: \"Rolling Skating\",\n",
    "    3217: \"Skating (not specified)\",\n",
    "    3257: \"Jujitsu\",\n",
    "    1213: \"Golf Carts\",\n",
    "    1267: \"Soccer\",\n",
    "    3236: \"Ball Sports (not specified)\",\n",
    "    1244: \"Climbing Apparatus, playground\",\n",
    "    1871: \"Fence/Fence Post\",\n",
    "    5036: \"Two-wheeled, powered, off-road vehicles\",\n",
    "    1242: \"Slides\",\n",
    "    3286: \"Four-wheeled, all-terrain vehicles\",\n",
    "    1239: \"Bridles (Horseback Riding)\",\n",
    "    3278: \"Dancing\",\n",
    "    1328: \"Children's Wagon\",\n",
    "    3254: \"Cheerleading\",\n",
    "    1266: \"Volleyball\",\n",
    "    3274: \"Swimsuit\",\n",
    "    1284: \"Swimming pools (not specified)\",\n",
    "    3246: \"Swings\",\n",
    "    3265: \"Weight Lifting\",\n",
    "    1895: \"Deer/Tree Stands\",\n",
    "    3272: \"Hockey (not specified)\",\n",
    "    1817: \"Loading Docks\",\n",
    "    5030: \"Pole Vault\",\n",
    "    1200: \"Rodeo\",\n",
    "    3287: \"All-terrain Vehicles (number of wheels not specified)\",\n",
    "    1290 : \"snowmobiles\",\n",
    "    1884 : \"ceilings and walls\",\n",
    "    1261 : \"windsurfing\",\n",
    "    1270 : \"wrestling\", \n",
    "    1842 : \"stairs\",\n",
    "    1206 : \"bowling\",\n",
    "    5017 : \"flying discs or boomerangs\",\n",
    "    852 : \"rope or string\",\n",
    "    1215 : \"lacrosse\", \n",
    "    3223 : \"fishing\",\n",
    "    1207 : \"punching bags\",\n",
    "    3234 : \"rugby\",\n",
    "    1233 : \"trampolines\", \n",
    "     3297 : \"in-line skating\", \n",
    "     3295 : \"water slides\",\n",
    "     4077 : \"straight ladders\", \n",
    "     1299 : \"snow tubing\",\n",
    "     5029 : \"tent or tent stakes\",\n",
    "     3235 : \"other ball sports\", \n",
    "     1615 : \"cleats\", \n",
    "     3259 : \"go-carts\",\n",
    "     1294 : \"bleachers\", \n",
    "     3284 : \"tennis\",\n",
    "     1816 : \"scaffolding\",\n",
    "     1212 : \"golf\",\n",
    "     4074 : \"lawn chair\",\n",
    "     1217 : \"sleds\",\n",
    "     1329 : \"standup scooter (unpowered)\", \n",
    "     3277 : \"treadmills\", \n",
    "     465 : \"other cookware\",\n",
    "     1264 : \"knee boarding\",\n",
    "     4016 : \"beach chairs\",\n",
    "     536 : \"photographic equipment\",\n",
    "     1829 : \"banisters\", \n",
    "     1243 : \"seesaw\",\n",
    "     1278 : \"diving board\",\n",
    "     3288 : \"beach buggles\",\n",
    "     1715 : \"pet cages\",\n",
    "     374 : \"gymnastic bars\",\n",
    "     3200 : \"water tubing\", \n",
    "     3219 : \"ball pits\",\n",
    "     1276 : \"tether ball\", \n",
    "     1295 : \"field hockey\",\n",
    "     3256 : \"paddle ball\", \n",
    "     1235 : \"archery\",\n",
    "     611 : \"bathtubs or showers\", \n",
    "     3250 : \"portable beverage cooler\", \n",
    "     1893 : \"bathroom stall door\",  \n",
    "     687 : \"benches\",\n",
    "     3279 : \"floaties\",\n",
    "     1313 : \"fireworks\",\n",
    "     4078 : \"chain ladders\",  \n",
    "     466 : \"cookware not specified\", \n",
    "     1843 : \"ramps or landings\",\n",
    "     4057 : \"altar\",\n",
    "     832 : \"circular power saws\",\n",
    "     3260 : \"fencing\", \n",
    "     464 : \"knives\", \n",
    "     1426 : \"axes\", \n",
    "     3293 : \"water slides\",\n",
    "     1643 : \"keys\", \n",
    "     5011 : \"bookbags\", \n",
    "     3202 : \"pedal-powered adult vehicles (3+ wheels)\", \n",
    "     1395 : \"battery-operated toys\",  \n",
    "     827 : \"hammers\", \n",
    "     612 : \"bathroom rugs\", \n",
    "     1301 : \"children's tricycle\", \n",
    "     1310 : \"pogo sticks\", \n",
    "     3276 : \"water polo\",\n",
    "     685 : \"electric extension cord\", \n",
    "     1645 : \"blouses\", \n",
    "     1138 : \"beer kegs\", \n",
    "     1141 : \"non-specified containers\", \n",
    "     1812 : \"downspouts\", \n",
    "     3294 : \"inflatable water slides\",\n",
    "     3249 : \"grills (not specified)\", \n",
    "     1865 : \"poles\", \n",
    "     1457 : \"log splitters\", \n",
    "     1127 : \"non-glass bottles\", \n",
    "     3261 : \"shuffleboard\", \n",
    "     5032 : \"roller hockey\",\n",
    "     1381 : \"air hockey\", \n",
    "     1282 : \"handball\", \n",
    "     661 : \"bed rails\", \n",
    "     3215 : \"mopeds\", \n",
    "     1398 : \"wheeled riding toys (unpowered)\", \n",
    "     1506 : \"baby gates\", \n",
    "     1234 : \"playhouses\", \n",
    "     1741 : \"tarpaulins\", \n",
    "     1392 : \"toy sports equiptment\",\n",
    "     1273 : \"bobsleds\",  \n",
    "     566 : \"musical instrument (non-electrical)\", \n",
    "     5020 : \"pretent electronics/household devices\", \n",
    "     5044 : \"utility vehicles\", \n",
    "     1277 : \"swimming pool slides\",  \n",
    "     394 : \"patio heaters or firepits\",  \n",
    "     131 : \"butane gas tanks\", \n",
    "     1612 : \"facial saunas\", \n",
    "     1260 : \"billiards\", \n",
    "     4056 : \"brackets\", \n",
    "     3262 : \"water heater\",  \n",
    "     478 : \"drinking glasses\",  \n",
    "     617 : \"curtains\", \n",
    "     3245 : \"floor hockey\"\n",
    "}"
   ]
  },
  {
   "cell_type": "markdown",
   "metadata": {},
   "source": [
    "Now let's go ahead and find all of the codes not currently in the `sports_dict`. Dammit! I have my work cut out for me again. It appears to be 142 items!."
   ]
  },
  {
   "cell_type": "code",
   "execution_count": 6,
   "metadata": {
    "collapsed": false
   },
   "outputs": [
    {
     "name": "stdout",
     "output_type": "stream",
     "text": [
      "[0, 102, 136, 137, 215, 216, 242, 263, 379, 393, 413, 546, 547, 550, 557, 572, 604, 613, 639, 648, 649, 653, 654, 666, 676, 679, 698, 699, 707, 814, 835, 837, 845, 884, 885, 886, 899, 913, 960, 1023, 1062, 1107, 1112, 1114, 1120, 1133, 1137, 1143, 1144, 1208, 1237, 1257, 1269, 1271, 1275, 1283, 1309, 1317, 1322, 1325, 1327, 1330, 1342, 1347, 1349, 1352, 1394, 1403, 1406, 1413, 1414, 1415, 1422, 1425, 1439, 1465, 1466, 1502, 1512, 1519, 1522, 1527, 1545, 1550, 1555, 1606, 1607, 1610, 1616, 1623, 1646, 1647, 1658, 1660, 1679, 1684, 1686, 1706, 1707, 1726, 1738, 1744, 1819, 1820, 1857, 1864, 1870, 1878, 1885, 1887, 1889, 1890, 1892, 1894, 3221, 3222, 3282, 3285, 3296, 4008, 4010, 4014, 4025, 4050, 4051, 4058, 4062, 4063, 4069, 4075, 4076, 4080, 4081, 4802, 5004, 5005, 5006, 5019, 5021, 5035, 5042, 5043]\n",
      "142\n"
     ]
    }
   ],
   "source": [
    "new_codes = [i for i in uniq_prods if i not in sport_dict]\n",
    "new_codes = [int(i) for i in new_codes]\n",
    "print(new_codes)\n",
    "print(len(new_codes))"
   ]
  },
  {
   "cell_type": "code",
   "execution_count": 10,
   "metadata": {
    "collapsed": false
   },
   "outputs": [
    {
     "data": {
      "text/plain": [
       "(array([   0,  102,  136,  374,  393,  413,  464,  536,  550,  557,  572,\n",
       "         604,  611,  612,  613,  639,  648,  649,  666,  676,  679,  687,\n",
       "         698,  814,  827,  852,  884,  885,  886, 1023, 1112, 1120, 1127,\n",
       "        1133, 1141, 1143, 1144, 1200, 1205, 1206, 1207, 1211, 1212, 1213,\n",
       "        1215, 1217, 1233, 1234, 1239, 1242, 1244, 1258, 1266, 1267, 1270,\n",
       "        1272, 1277, 1278, 1279, 1284, 1290, 1293, 1294, 1299, 1309, 1313,\n",
       "        1329, 1333, 1403, 1406, 1414, 1439, 1465, 1466, 1519, 1522, 1545,\n",
       "        1606, 1607, 1612, 1615, 1616, 1645, 1646, 1647, 1658, 1684, 1706,\n",
       "        1715, 1738, 1807, 1812, 1817, 1819, 1829, 1842, 1843, 1857, 1865,\n",
       "        1870, 1871, 1878, 1884, 1885, 1887, 1889, 1890, 1893, 1894, 1895,\n",
       "        3200, 3216, 3217, 3219, 3223, 3235, 3246, 3250, 3251, 3254, 3255,\n",
       "        3256, 3257, 3259, 3260, 3262, 3265, 3272, 3273, 3274, 3277, 3278,\n",
       "        3279, 3283, 3284, 3286, 3287, 3293, 3295, 3297, 3299, 4008, 4010,\n",
       "        4014, 4016, 4056, 4057, 4074, 4076, 4078, 4080, 5004, 5011, 5016,\n",
       "        5017, 5019, 5029, 5030, 5031, 5033, 5034, 5036, 5040, 5041, 5042]),\n",
       " array([60838,     1,     1,     8,     1,     2,     1,     2,     3,\n",
       "            1,     1,     1,     3,     2,     1,     1,     1,     1,\n",
       "            3,     8,     1,    20,     1,     1,     2,    11,     1,\n",
       "            2,     1,    14,     1,     1,     1,     1,     6,     1,\n",
       "            6,    21,    60,     7,     6,    31,    11,    13,     2,\n",
       "            6,    18,     1,     4,    23,    15,     3,    11,    38,\n",
       "            6,    29,     1,    14,     2,    22,     1,     8,    15,\n",
       "            4,     1,     1,     4,     7,     1,     1,     1,     2,\n",
       "            1,     2,     1,     1,     1,     2,     5,     1,    73,\n",
       "            4,    19,     3,     5,     2,     1,     2,     1,     2,\n",
       "          202,     1,    13,     3,    27,    33,    20,    16,    59,\n",
       "            1,    91,     1,   185,     1,     1,     1,     1,     5,\n",
       "            3,     1,     3,    24,     5,    18,     7,     9,     7,\n",
       "            1,    19,    12,     3,     1,    18,     4,     1,     5,\n",
       "            6,     7,    12,    22,    27,    13,     1,    20,     2,\n",
       "            9,     3,     1,     4,    10,    42,     1,     1,     2,\n",
       "            2,     3,     6,    17,     2,     2,     1,     1,     4,\n",
       "            5,     2,     1,     6,     7,    24,     1,    11,     2,\n",
       "           10,    23,     1]))"
      ]
     },
     "execution_count": 10,
     "metadata": {},
     "output_type": "execute_result"
    }
   ],
   "source": [
    "np.unique(sports['prod2'],return_counts = True)"
   ]
  },
  {
   "cell_type": "code",
   "execution_count": null,
   "metadata": {
    "collapsed": true
   },
   "outputs": [],
   "source": []
  }
 ],
 "metadata": {
  "kernelspec": {
   "display_name": "Python 3",
   "language": "python",
   "name": "python3"
  },
  "language_info": {
   "codemirror_mode": {
    "name": "ipython",
    "version": 3
   },
   "file_extension": ".py",
   "mimetype": "text/x-python",
   "name": "python",
   "nbconvert_exporter": "python",
   "pygments_lexer": "ipython3",
   "version": "3.5.1"
  }
 },
 "nbformat": 4,
 "nbformat_minor": 0
}

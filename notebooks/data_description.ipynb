{
 "cells": [
  {
   "cell_type": "code",
   "execution_count": 1,
   "metadata": {
    "collapsed": true
   },
   "outputs": [],
   "source": [
    "import pandas as pd\n",
    "import numpy as np"
   ]
  },
  {
   "cell_type": "code",
   "execution_count": 2,
   "metadata": {
    "collapsed": true
   },
   "outputs": [],
   "source": [
    "df = pd.read_csv('/Users/jamesbain/Documents/research/neander_trauma/Data/NEISS/sport_category_final.csv')"
   ]
  },
  {
   "cell_type": "markdown",
   "metadata": {},
   "source": [
    "Diagnosis code for fractures as well as locale of where the injury occured.\n",
    "\n",
    "column  | code | description\n",
    "--------|------|------------\n",
    "diag    | 57   | fracture\n",
    "location| 9    | place of recreation or sports\n",
    "\n",
    "-----\n",
    "## Number of patients and Unique Activities"
   ]
  },
  {
   "cell_type": "code",
   "execution_count": 15,
   "metadata": {
    "collapsed": false
   },
   "outputs": [
    {
     "name": "stdout",
     "output_type": "stream",
     "text": [
      "Number of patients   : 61851  \n",
      "Number of activities : 84     \n"
     ]
    }
   ],
   "source": [
    "n = len(df)\n",
    "n_sports = len(pd.unique(df.prod1))\n",
    "\n",
    "print(\"Number of patients   : {:<7}\".format(n))\n",
    "print(\"Number of activities : {:<7}\".format(n_sports))"
   ]
  }
 ],
 "metadata": {
  "kernelspec": {
   "display_name": "Python 3",
   "language": "python",
   "name": "python3"
  },
  "language_info": {
   "codemirror_mode": {
    "name": "ipython",
    "version": 3
   },
   "file_extension": ".py",
   "mimetype": "text/x-python",
   "name": "python",
   "nbconvert_exporter": "python",
   "pygments_lexer": "ipython3",
   "version": "3.5.2"
  }
 },
 "nbformat": 4,
 "nbformat_minor": 0
}
